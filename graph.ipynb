{
 "cells": [
  {
   "cell_type": "markdown",
   "metadata": {},
   "source": [
    "## Find numbers of connected components in an indirected graph"
   ]
  },
  {
   "cell_type": "code",
   "execution_count": 1,
   "metadata": {},
   "outputs": [],
   "source": [
    "n = 5\n",
    "edges = [[0, 1], [1, 2], [3, 4]]"
   ]
  },
  {
   "cell_type": "code",
   "execution_count": 2,
   "metadata": {},
   "outputs": [],
   "source": [
    "# convert to a graph\n",
    "graph = {node : [] for node in range(n)}\n",
    "for e in edges:\n",
    "    graph[e[0]].append(e[1])\n",
    "    graph[e[1]].append(e[0])"
   ]
  },
  {
   "cell_type": "code",
   "execution_count": 3,
   "metadata": {},
   "outputs": [
    {
     "data": {
      "text/plain": [
       "(2, [[0, 1, 2], [3, 4]])"
      ]
     },
     "execution_count": 3,
     "metadata": {},
     "output_type": "execute_result"
    }
   ],
   "source": [
    "# BFS\n",
    "def BFS_cc(n, graph):\n",
    "    count  = 0\n",
    "    visited = [False]*n\n",
    "    components = []\n",
    "    for i in range(n):\n",
    "        if visited[i] == False:\n",
    "            queue = [i]\n",
    "            c = []\n",
    "            while len(queue) > 0:\n",
    "                node  = queue.pop(0)\n",
    "                c.append(node)\n",
    "                visited[node] = True\n",
    "                for k in graph[node]:\n",
    "                    if visited[k] == False:\n",
    "                        queue.append(k)  \n",
    "            components.append(c)            \n",
    "            count += 1\n",
    "    return count, components    \n",
    "\n",
    "BFS_cc(n, graph)"
   ]
  },
  {
   "cell_type": "code",
   "execution_count": 4,
   "metadata": {},
   "outputs": [
    {
     "data": {
      "text/plain": [
       "(2, [[0, 1, 2], [3, 4]])"
      ]
     },
     "execution_count": 4,
     "metadata": {},
     "output_type": "execute_result"
    }
   ],
   "source": [
    "# DFS\n",
    "def DFS_cc(n, graph):\n",
    "    count  = 0\n",
    "    visited = [False]*n\n",
    "    components = []\n",
    "    def DFS(i):\n",
    "        c.append(i)\n",
    "        visited[i] = True\n",
    "        for j in graph[i]:\n",
    "            if visited[j] == False:\n",
    "                DFS(j)\n",
    "            \n",
    "                    \n",
    "    for i in range(n):\n",
    "        if visited[i] == False:\n",
    "            c = []\n",
    "            DFS(i)\n",
    "            count+=1\n",
    "            components.append(c)   \n",
    "                \n",
    "    return count, components\n",
    "\n",
    "DFS_cc(n, graph)"
   ]
  },
  {
   "cell_type": "code",
   "execution_count": null,
   "metadata": {},
   "outputs": [],
   "source": []
  }
 ],
 "metadata": {
  "kernelspec": {
   "display_name": "Python 3",
   "language": "python",
   "name": "python3"
  },
  "language_info": {
   "codemirror_mode": {
    "name": "ipython",
    "version": 3
   },
   "file_extension": ".py",
   "mimetype": "text/x-python",
   "name": "python",
   "nbconvert_exporter": "python",
   "pygments_lexer": "ipython3",
   "version": "3.7.4"
  }
 },
 "nbformat": 4,
 "nbformat_minor": 4
}
