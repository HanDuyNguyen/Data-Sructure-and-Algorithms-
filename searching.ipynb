{
 "cells": [
  {
   "cell_type": "markdown",
   "metadata": {},
   "source": [
    "Given an array arr[] of n elements, write a function to search a given element x in arr[]."
   ]
  },
  {
   "cell_type": "code",
   "execution_count": 1,
   "metadata": {},
   "outputs": [],
   "source": [
    "def linsearch(ar, x):\n",
    "    flag=-1\n",
    "    for i in range(len(ar)):\n",
    "        if ar[i]==x:\n",
    "            flag=i\n",
    "            break\n",
    "    return flag        "
   ]
  },
  {
   "cell_type": "code",
   "execution_count": 4,
   "metadata": {},
   "outputs": [
    {
     "data": {
      "text/plain": [
       "-1"
      ]
     },
     "execution_count": 4,
     "metadata": {},
     "output_type": "execute_result"
    }
   ],
   "source": [
    "ar=[10, 20, 80, 30, 60, 50, 110, 100, 130, 170]\n",
    "linsearch(ar,175)"
   ]
  },
  {
   "cell_type": "code",
   "execution_count": 15,
   "metadata": {},
   "outputs": [],
   "source": [
    "def bisearch1(ar, x):\n",
    "    a=0\n",
    "    b=len(ar)-1\n",
    "    c=(a+b)//2\n",
    "    while a!=b:\n",
    "        if ar[c]==x:\n",
    "            return c\n",
    "        elif x<ar[c]:\n",
    "            b=c-1\n",
    "        else:\n",
    "            a=c+1\n",
    "        c=(a+b)//2\n",
    "    return -1    \n",
    "                "
   ]
  },
  {
   "cell_type": "code",
   "execution_count": 16,
   "metadata": {},
   "outputs": [
    {
     "data": {
      "text/plain": [
       "4"
      ]
     },
     "execution_count": 16,
     "metadata": {},
     "output_type": "execute_result"
    }
   ],
   "source": [
    "ar=[2, 10, 3, 4, 10, 40]\n",
    "bisearch1(ar,10)"
   ]
  },
  {
   "cell_type": "code",
   "execution_count": 24,
   "metadata": {},
   "outputs": [],
   "source": [
    "def bisearch2(ar,l , r, x):\n",
    "    if r>=1:\n",
    "        m=(l+r)//2\n",
    "        if ar[m]==x:\n",
    "            return m\n",
    "        elif x<ar[m]:\n",
    "            return bisearch2(ar, l, m-1, x)\n",
    "        else:\n",
    "            return bisearch2(ar, m+1, r, x)\n",
    "    return -1    "
   ]
  },
  {
   "cell_type": "code",
   "execution_count": 27,
   "metadata": {},
   "outputs": [
    {
     "data": {
      "text/plain": [
       "1"
      ]
     },
     "execution_count": 27,
     "metadata": {},
     "output_type": "execute_result"
    }
   ],
   "source": [
    "ar=[2, 3, 4, 10, 40]\n",
    "bisearch2(ar, 0, 5, 3)"
   ]
  },
  {
   "cell_type": "code",
   "execution_count": 18,
   "metadata": {},
   "outputs": [],
   "source": [
    "def first_position(arr, x):\n",
    "    L = 0\n",
    "    R = len(arr) - 1\n",
    "    \n",
    "    while L<=R:\n",
    "        M = (L+R)//2\n",
    "        if arr[M]<x:\n",
    "            L = M+1\n",
    "        elif arr[M] >x:\n",
    "            R = M-1\n",
    "        else:\n",
    "            if arr[M-1] == x:\n",
    "                R = M-1\n",
    "            else:\n",
    "                return M  "
   ]
  },
  {
   "cell_type": "code",
   "execution_count": 22,
   "metadata": {},
   "outputs": [
    {
     "data": {
      "text/plain": [
       "3"
      ]
     },
     "execution_count": 22,
     "metadata": {},
     "output_type": "execute_result"
    }
   ],
   "source": [
    "arr = [-14,-10,2,108,108,243,285,285, 285,401]\n",
    "first_position(arr,2)"
   ]
  },
  {
   "cell_type": "code",
   "execution_count": null,
   "metadata": {},
   "outputs": [],
   "source": []
  }
 ],
 "metadata": {
  "kernelspec": {
   "display_name": "Python 3",
   "language": "python",
   "name": "python3"
  },
  "language_info": {
   "codemirror_mode": {
    "name": "ipython",
    "version": 3
   },
   "file_extension": ".py",
   "mimetype": "text/x-python",
   "name": "python",
   "nbconvert_exporter": "python",
   "pygments_lexer": "ipython3",
   "version": "3.7.4"
  }
 },
 "nbformat": 4,
 "nbformat_minor": 4
}
