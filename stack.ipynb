{
 "cells": [
  {
   "cell_type": "markdown",
   "metadata": {},
   "source": [
    "### Infix to Postfix"
   ]
  },
  {
   "cell_type": "code",
   "execution_count": 5,
   "metadata": {},
   "outputs": [
    {
     "name": "stdout",
     "output_type": "stream",
     "text": [
      "abc*+d+\n"
     ]
    }
   ],
   "source": [
    "class Conversion:\n",
    "    \n",
    "    def __init__(self, capacity):\n",
    "        self.top = -1\n",
    "        self.capacity = capacity\n",
    "        self.array = []\n",
    "        self.output = []\n",
    "        self.precedence = {'+':1, '-':1, '*':2, '/':2, '^':3} \n",
    "        \n",
    "    def isEmpty(self):\n",
    "        return True if self.top == -1 else False\n",
    "    \n",
    "    def peek(self):\n",
    "        return self.array[-1]\n",
    "    \n",
    "    def pop(self):\n",
    "        if not self.isEmpty():\n",
    "            self.top -= 1\n",
    "            return self.array.pop()\n",
    "        else:\n",
    "            return '$'\n",
    "    def push(self, op):\n",
    "        self.top += 1\n",
    "        self.array.append(op)\n",
    "    \n",
    "    def isOperand(self, ch):\n",
    "        return ch.isalpha()\n",
    "    \n",
    "    def notGreater(self, i):\n",
    "        try:\n",
    "            a = self.precedence[i]\n",
    "            b = self.precedence[self.peek()]\n",
    "            return True if a <= b else False\n",
    "        except KeyError:\n",
    "            return False\n",
    "    def infixToPostfix(self, exp):\n",
    "        for i in exp:\n",
    "            if self.isOperand(i):\n",
    "                self.output.append(i)\n",
    "            else:\n",
    "                while (not self.isEmpty() and self.notGreater(i)):\n",
    "                    self.output.append(self.pop())\n",
    "                self.push(i)\n",
    "        while not self.isEmpty():\n",
    "            self.output.append(self.pop())\n",
    "        print(\"\".join(self.output)) \n",
    "exp =  'a+b*c+d'\n",
    "obj = Conversion(len(exp)) \n",
    "obj.infixToPostfix(exp)         "
   ]
  },
  {
   "cell_type": "code",
   "execution_count": null,
   "metadata": {},
   "outputs": [],
   "source": []
  }
 ],
 "metadata": {
  "kernelspec": {
   "display_name": "Python 3",
   "language": "python",
   "name": "python3"
  },
  "language_info": {
   "codemirror_mode": {
    "name": "ipython",
    "version": 3
   },
   "file_extension": ".py",
   "mimetype": "text/x-python",
   "name": "python",
   "nbconvert_exporter": "python",
   "pygments_lexer": "ipython3",
   "version": "3.7.4"
  }
 },
 "nbformat": 4,
 "nbformat_minor": 4
}
