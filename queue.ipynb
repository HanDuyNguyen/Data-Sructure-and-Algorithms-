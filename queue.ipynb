{
 "cells": [
  {
   "cell_type": "markdown",
   "metadata": {},
   "source": [
    "### Implement a queue in Python"
   ]
  },
  {
   "cell_type": "code",
   "execution_count": 1,
   "metadata": {},
   "outputs": [
    {
     "name": "stdout",
     "output_type": "stream",
     "text": [
      "Initial queue\n",
      "['a', 'b', 'c']\n",
      "\n",
      "Elements dequeued from queue\n",
      "a\n",
      "b\n",
      "c\n",
      "\n",
      "Queue after removing elements\n",
      "[]\n"
     ]
    }
   ],
   "source": [
    "queue = []\n",
    "\n",
    "queue.append('a') \n",
    "queue.append('b') \n",
    "queue.append('c') \n",
    "\n",
    "print(\"Initial queue\") \n",
    "print(queue) \n",
    "\n",
    "print(\"\\nElements dequeued from queue\") \n",
    "print(queue.pop(0)) \n",
    "print(queue.pop(0)) \n",
    "print(queue.pop(0))\n",
    "\n",
    "print(\"\\nQueue after removing elements\") \n",
    "print(queue)"
   ]
  },
  {
   "cell_type": "markdown",
   "metadata": {},
   "source": [
    "### Reverse a queue"
   ]
  },
  {
   "cell_type": "code",
   "execution_count": 2,
   "metadata": {},
   "outputs": [],
   "source": [
    "# using recursion\n",
    "def revqueue1(q):\n",
    "    n = len(q)\n",
    "    if n==2:\n",
    "        temp = q.pop(0)\n",
    "        q.append(temp)\n",
    "        return q\n",
    "    else:\n",
    "        temp = q.pop(0)\n",
    "        a = revqueue1(q)\n",
    "        a.append(temp)\n",
    "    return a    "
   ]
  },
  {
   "cell_type": "code",
   "execution_count": 3,
   "metadata": {},
   "outputs": [
    {
     "data": {
      "text/plain": [
       "[9, 8, 7, 6, 5, 4, 3, 2, 1]"
      ]
     },
     "execution_count": 3,
     "metadata": {},
     "output_type": "execute_result"
    }
   ],
   "source": [
    "q = [1,2,3,4,5,6,7,8,9]\n",
    "revqueue1(q)"
   ]
  },
  {
   "cell_type": "code",
   "execution_count": 4,
   "metadata": {},
   "outputs": [],
   "source": [
    "# using stack\n",
    "def revqueue2(q):\n",
    "    stack = []\n",
    "    while (len(q)!=0):\n",
    "        temp = q.pop(0)\n",
    "        stack.append(temp)\n",
    "    while (len(stack)!=0):\n",
    "        temp = stack.pop()\n",
    "        q.append(temp)\n",
    "    return q          "
   ]
  },
  {
   "cell_type": "code",
   "execution_count": 5,
   "metadata": {},
   "outputs": [
    {
     "data": {
      "text/plain": [
       "[9, 8, 7, 6, 5, 4, 3, 2, 1]"
      ]
     },
     "execution_count": 5,
     "metadata": {},
     "output_type": "execute_result"
    }
   ],
   "source": [
    "q = [1,2,3,4,5,6,7,8,9]\n",
    "revqueue2(q)"
   ]
  },
  {
   "cell_type": "markdown",
   "metadata": {},
   "source": [
    "### Reverse the first K elements of a queue"
   ]
  },
  {
   "cell_type": "code",
   "execution_count": 8,
   "metadata": {},
   "outputs": [],
   "source": [
    "#using stack\n",
    "def revkqueue(q, k):\n",
    "    n = len(q)\n",
    "    stack = []\n",
    "    count = 0\n",
    "    while count < k:\n",
    "        temp = q.pop(0)\n",
    "        stack.append(temp)\n",
    "        count += 1\n",
    "    while (len(stack) != 0):\n",
    "        temp = stack.pop()\n",
    "        q.append(temp)\n",
    "    count = 0\n",
    "    l = n-k\n",
    "    while l > 0:\n",
    "        temp = q.pop(0)\n",
    "        q.append(temp)\n",
    "        l -= 1\n",
    "    return q"
   ]
  },
  {
   "cell_type": "code",
   "execution_count": 10,
   "metadata": {},
   "outputs": [
    {
     "data": {
      "text/plain": [
       "[5, 4, 3, 2, 1, 6, 7, 8, 9]"
      ]
     },
     "execution_count": 10,
     "metadata": {},
     "output_type": "execute_result"
    }
   ],
   "source": [
    "q = [1,2,3,4,5,6,7,8,9]\n",
    "revkqueue(q, 5)"
   ]
  },
  {
   "cell_type": "code",
   "execution_count": null,
   "metadata": {},
   "outputs": [],
   "source": []
  }
 ],
 "metadata": {
  "kernelspec": {
   "display_name": "Python 3",
   "language": "python",
   "name": "python3"
  },
  "language_info": {
   "codemirror_mode": {
    "name": "ipython",
    "version": 3
   },
   "file_extension": ".py",
   "mimetype": "text/x-python",
   "name": "python",
   "nbconvert_exporter": "python",
   "pygments_lexer": "ipython3",
   "version": "3.7.4"
  }
 },
 "nbformat": 4,
 "nbformat_minor": 4
}
