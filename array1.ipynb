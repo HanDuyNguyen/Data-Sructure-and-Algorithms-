{
 "cells": [
  {
   "cell_type": "markdown",
   "metadata": {},
   "source": [
    "Write a function rotate(ar[], d, n) that rotates arr[] of size n by d elements."
   ]
  },
  {
   "cell_type": "code",
   "execution_count": 1,
   "metadata": {},
   "outputs": [],
   "source": [
    "def r(arr):\n",
    "    for i in range(len(arr)-1):\n",
    "        temp=arr[i+1]\n",
    "        arr[i+1]=arr[i]\n",
    "        arr[i]=temp\n",
    "    return arr    "
   ]
  },
  {
   "cell_type": "code",
   "execution_count": 2,
   "metadata": {},
   "outputs": [],
   "source": [
    "arr=[1,2,3,4,5,6,7]"
   ]
  },
  {
   "cell_type": "code",
   "execution_count": 3,
   "metadata": {},
   "outputs": [],
   "source": [
    "def rotate1(ar, d, n):\n",
    "    for i in range(d):\n",
    "        ar=r(ar)\n",
    "    return ar"
   ]
  },
  {
   "cell_type": "code",
   "execution_count": 4,
   "metadata": {},
   "outputs": [
    {
     "data": {
      "text/plain": [
       "[3, 4, 5, 6, 7, 1, 2]"
      ]
     },
     "execution_count": 4,
     "metadata": {},
     "output_type": "execute_result"
    }
   ],
   "source": [
    "rotate1(arr,2,6)"
   ]
  },
  {
   "cell_type": "code",
   "execution_count": 5,
   "metadata": {},
   "outputs": [],
   "source": [
    "def rotate2(ar, d, n):\n",
    "    temp=ar[:d]\n",
    "    for i in range(d):\n",
    "        ar.pop(0)\n",
    "    return ar+temp    "
   ]
  },
  {
   "cell_type": "code",
   "execution_count": 6,
   "metadata": {},
   "outputs": [
    {
     "data": {
      "text/plain": [
       "[3, 4, 5, 6, 7, 1, 2]"
      ]
     },
     "execution_count": 6,
     "metadata": {},
     "output_type": "execute_result"
    }
   ],
   "source": [
    "arr=[1,2,3,4,5,6,7]\n",
    "rotate2(arr,2,6)"
   ]
  },
  {
   "cell_type": "code",
   "execution_count": 7,
   "metadata": {},
   "outputs": [],
   "source": [
    "def reverse(ar):\n",
    "    l=0\n",
    "    r=len(ar)-1\n",
    "    while l<r:\n",
    "        temp=ar[l]\n",
    "        ar[l]=ar[r]\n",
    "        ar[r]=temp\n",
    "        l+=1\n",
    "        r-=1\n",
    "    return ar    "
   ]
  },
  {
   "cell_type": "code",
   "execution_count": null,
   "metadata": {},
   "outputs": [],
   "source": [
    "def rotate3(ar, d, n):\n",
    "    reverse(ar[:d])\n",
    "    reverse(ar[d:])"
   ]
  },
  {
   "cell_type": "code",
   "execution_count": 12,
   "metadata": {},
   "outputs": [],
   "source": [
    "a = [1,4,6,9,23]\n",
    "b = [3,6,7,10]\n",
    "def merge(a,b):\n",
    "    i = 0\n",
    "    j = 0\n",
    "    c = []\n",
    "    while i<len(a) and j<len(b):\n",
    "        if a[i]<b[j]:\n",
    "            c.append(a[i])\n",
    "            i+=1\n",
    "        elif b[j]<a[i]:\n",
    "            c.append(b[j])\n",
    "            j+=1\n",
    "        else:\n",
    "            c.append(a[i])\n",
    "            c.append(b[j])\n",
    "            i+=1\n",
    "            j+=1\n",
    "        if i==len(a):\n",
    "            c = c+b[len(a):]\n",
    "        if j==len(b):\n",
    "            c = c+a[len(b):]\n",
    "    return c\n"
   ]
  },
  {
   "cell_type": "markdown",
   "metadata": {},
   "source": [
    "### Even number first, odd numbers latter"
   ]
  },
  {
   "cell_type": "code",
   "execution_count": 1,
   "metadata": {},
   "outputs": [],
   "source": [
    "def even_odd(arr):\n",
    "    if len(arr) <=1:\n",
    "        return arr\n",
    "    \n",
    "    l = 0\n",
    "    r = len(arr)-1\n",
    "    \n",
    "    while l < r:\n",
    "        while arr[l]%2 == 0:\n",
    "            l+=1\n",
    "        while arr[r]%2 != 0:\n",
    "            r-=1\n",
    "        if l < r:\n",
    "            temp = arr[l]\n",
    "            arr[l] = arr[r]\n",
    "            arr[r] = temp\n",
    "    return arr        "
   ]
  },
  {
   "cell_type": "code",
   "execution_count": 2,
   "metadata": {},
   "outputs": [
    {
     "data": {
      "text/plain": [
       "[4, 2, 5, 1, 3]"
      ]
     },
     "execution_count": 2,
     "metadata": {},
     "output_type": "execute_result"
    }
   ],
   "source": [
    "arr = [1, 2,5,4 ,3]\n",
    "even_odd(arr)"
   ]
  },
  {
   "cell_type": "markdown",
   "metadata": {},
   "source": [
    "### The Dutch national flag"
   ]
  },
  {
   "cell_type": "code",
   "execution_count": 3,
   "metadata": {},
   "outputs": [],
   "source": [
    "def dutch_flag(arr, pivot_index):\n",
    "    pivot = arr[pivot_index]\n",
    "    \n",
    "    smaller, equal, larger = 0, 0, len(arr)-1\n",
    "    while equal < larger:\n",
    "        if arr[equal] < pivot:\n",
    "            arr[smaller], arr[equal] = arr[equal], arr[smaller]\n",
    "            smaller+=1\n",
    "        elif arr[equal] == pivot:\n",
    "            equal+=1\n",
    "        else:\n",
    "            arr[larger], arr[equal] = arr[equal], arr[larger]\n",
    "            larger-=1\n",
    "    return arr           "
   ]
  },
  {
   "cell_type": "code",
   "execution_count": 4,
   "metadata": {},
   "outputs": [
    {
     "data": {
      "text/plain": [
       "[-5, 1, 1, 5, 3, 2]"
      ]
     },
     "execution_count": 4,
     "metadata": {},
     "output_type": "execute_result"
    }
   ],
   "source": [
    "arr = [2, -5, 1, 1, 5, 3]\n",
    "dutch_flag(arr, 2)"
   ]
  },
  {
   "cell_type": "markdown",
   "metadata": {},
   "source": [
    "### Add "
   ]
  },
  {
   "cell_type": "code",
   "execution_count": 9,
   "metadata": {},
   "outputs": [],
   "source": [
    "def add_one(arr):\n",
    "    n = len(arr)\n",
    "    temp = 1\n",
    "    i = n-1\n",
    "    while i>=0 :\n",
    "        s = arr[i] + temp\n",
    "        arr[i] = s%10\n",
    "        temp = s//10\n",
    "        i -= 1\n",
    "    if temp == 0:\n",
    "        return arr\n",
    "    else:\n",
    "        return [temp] + arr    "
   ]
  },
  {
   "cell_type": "code",
   "execution_count": 11,
   "metadata": {},
   "outputs": [
    {
     "data": {
      "text/plain": [
       "[1, 0, 0, 0]"
      ]
     },
     "execution_count": 11,
     "metadata": {},
     "output_type": "execute_result"
    }
   ],
   "source": [
    "arr = [9,9,9]\n",
    "add_one(arr)"
   ]
  },
  {
   "cell_type": "markdown",
   "metadata": {},
   "source": [
    "### Delete douplications"
   ]
  },
  {
   "cell_type": "code",
   "execution_count": 9,
   "metadata": {},
   "outputs": [],
   "source": [
    "def del_dup(arr):\n",
    "    \n",
    "    if len(arr)<=1:\n",
    "        return arr\n",
    "    n = len(arr)\n",
    "    curr = 0\n",
    "    for i in range(1, n):\n",
    "        if arr[i] != arr[curr]:\n",
    "            curr += 1\n",
    "            arr[curr], arr[i] = arr[i], arr[curr]\n",
    "    return arr[:curr+1]"
   ]
  },
  {
   "cell_type": "code",
   "execution_count": 15,
   "metadata": {},
   "outputs": [
    {
     "data": {
      "text/plain": [
       "[1, 2]"
      ]
     },
     "execution_count": 15,
     "metadata": {},
     "output_type": "execute_result"
    }
   ],
   "source": [
    "arr = [1,2]\n",
    "del_dup(arr)"
   ]
  },
  {
   "cell_type": "markdown",
   "metadata": {},
   "source": [
    "### Buy and sell stocks"
   ]
  },
  {
   "cell_type": "code",
   "execution_count": 5,
   "metadata": {},
   "outputs": [],
   "source": [
    "import math\n",
    "def buy_sell(prices):\n",
    "    curr_min = math.inf\n",
    "    max_profit = -math.inf\n",
    "    for i in range(len(prices)):\n",
    "        curr_min = min(prices[i], curr_min)\n",
    "        max_profit = max(max_profit, prices[i]-curr_min)\n",
    "    return max_profit    "
   ]
  },
  {
   "cell_type": "code",
   "execution_count": 6,
   "metadata": {},
   "outputs": [
    {
     "data": {
      "text/plain": [
       "30"
      ]
     },
     "execution_count": 6,
     "metadata": {},
     "output_type": "execute_result"
    }
   ],
   "source": [
    "p = [310,315,275,295,260,270,290,230,255,250]\n",
    "buy_sell(p)"
   ]
  },
  {
   "cell_type": "markdown",
   "metadata": {},
   "source": [
    "### Primes"
   ]
  },
  {
   "cell_type": "code",
   "execution_count": 10,
   "metadata": {},
   "outputs": [],
   "source": [
    "def primes(n):\n",
    "    results = [2]\n",
    "    if n == 2:\n",
    "        return results\n",
    "    for i in range(3, n+1):\n",
    "        flag = 1\n",
    "        for x in results:\n",
    "            if i%x == 0:\n",
    "                flag = 0\n",
    "                break\n",
    "        if flag == 1:\n",
    "            results.append(i)\n",
    "    return results        "
   ]
  },
  {
   "cell_type": "code",
   "execution_count": 17,
   "metadata": {},
   "outputs": [
    {
     "data": {
      "text/plain": [
       "[2, 3, 5, 7, 11, 13, 17, 19]"
      ]
     },
     "execution_count": 17,
     "metadata": {},
     "output_type": "execute_result"
    }
   ],
   "source": [
    "primes(20)"
   ]
  },
  {
   "cell_type": "markdown",
   "metadata": {},
   "source": [
    "### Find the smallest element in an array which is bigger than an integer x"
   ]
  },
  {
   "cell_type": "code",
   "execution_count": 45,
   "metadata": {},
   "outputs": [],
   "source": [
    "import math\n",
    "def infi(arr, x):\n",
    "    r = math.inf\n",
    "    for i in arr:\n",
    "        if i > x:\n",
    "            r = min(r,i)\n",
    "    if r < math.inf:       \n",
    "        return r  \n",
    "    else:\n",
    "        return -1\n",
    "    "
   ]
  },
  {
   "cell_type": "code",
   "execution_count": 46,
   "metadata": {},
   "outputs": [
    {
     "data": {
      "text/plain": [
       "6"
      ]
     },
     "execution_count": 46,
     "metadata": {},
     "output_type": "execute_result"
    }
   ],
   "source": [
    "infi([4, 10,3, 7,6], 5)"
   ]
  },
  {
   "cell_type": "code",
   "execution_count": 54,
   "metadata": {},
   "outputs": [],
   "source": [
    "arr = [3,4,2]\n",
    "a = arr[1:].sort()"
   ]
  },
  {
   "cell_type": "code",
   "execution_count": 55,
   "metadata": {},
   "outputs": [
    {
     "data": {
      "text/plain": [
       "[1, 2, 3]"
      ]
     },
     "execution_count": 55,
     "metadata": {},
     "output_type": "execute_result"
    }
   ],
   "source": [
    "sorted([3,2,1])"
   ]
  },
  {
   "cell_type": "code",
   "execution_count": null,
   "metadata": {},
   "outputs": [],
   "source": []
  }
 ],
 "metadata": {
  "kernelspec": {
   "display_name": "Python 3",
   "language": "python",
   "name": "python3"
  },
  "language_info": {
   "codemirror_mode": {
    "name": "ipython",
    "version": 3
   },
   "file_extension": ".py",
   "mimetype": "text/x-python",
   "name": "python",
   "nbconvert_exporter": "python",
   "pygments_lexer": "ipython3",
   "version": "3.7.4"
  }
 },
 "nbformat": 4,
 "nbformat_minor": 4
}
