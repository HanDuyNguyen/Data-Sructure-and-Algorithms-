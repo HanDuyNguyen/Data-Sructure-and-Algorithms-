{
 "cells": [
  {
   "cell_type": "markdown",
   "metadata": {},
   "source": [
    "### Single number\n",
    "1. https://leetcode.com/problems/single-number/\n",
    "2. https://leetcode.com/problems/single-number-ii/\n",
    "3. https://leetcode.com/problems/single-number-iii/"
   ]
  },
  {
   "cell_type": "code",
   "execution_count": 6,
   "metadata": {},
   "outputs": [],
   "source": [
    "# 1\n",
    "# sorting \n",
    "def singleNumber1(nums):\n",
    "    \n",
    "    nums.sort()\n",
    "    i = 0 \n",
    "            \n",
    "    while i < len(nums) -1:\n",
    "        if nums[i] == nums[i+1]:\n",
    "            i += 2\n",
    "        else:\n",
    "            return nums[i]\n",
    "                \n",
    "    return nums[i] \n",
    "\n",
    "# hashtable\n",
    "def singleNumber2(nums):\n",
    "    \n",
    "    thedict = {}\n",
    "    \n",
    "    for i in nums:\n",
    "        if i in thedict:\n",
    "            thedict[i] += 1\n",
    "        else:\n",
    "            thedict[i] = 1\n",
    "            \n",
    "    for i in thedict:\n",
    "        if thedict[i] == 1:\n",
    "            return i\n",
    "# bitwise                 "
   ]
  },
  {
   "cell_type": "code",
   "execution_count": 7,
   "metadata": {},
   "outputs": [
    {
     "name": "stdout",
     "output_type": "stream",
     "text": [
      "4\n",
      "4\n"
     ]
    }
   ],
   "source": [
    "nums = [4,1,2,1,2]\n",
    "print(singleNumber1(nums))\n",
    "print(singleNumber2(nums))"
   ]
  },
  {
   "cell_type": "code",
   "execution_count": null,
   "metadata": {},
   "outputs": [],
   "source": []
  }
 ],
 "metadata": {
  "kernelspec": {
   "display_name": "Python 3",
   "language": "python",
   "name": "python3"
  },
  "language_info": {
   "codemirror_mode": {
    "name": "ipython",
    "version": 3
   },
   "file_extension": ".py",
   "mimetype": "text/x-python",
   "name": "python",
   "nbconvert_exporter": "python",
   "pygments_lexer": "ipython3",
   "version": "3.7.4"
  }
 },
 "nbformat": 4,
 "nbformat_minor": 4
}
